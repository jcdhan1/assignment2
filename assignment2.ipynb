{
 "cells": [
  {
   "cell_type": "markdown",
   "metadata": {},
   "source": [
    "# COM2004/3004 Assignment 2: Code Snippets\n",
    "\n",
    "v1.0 30/10/2016"
   ]
  },
  {
   "cell_type": "markdown",
   "metadata": {
    "collapsed": true
   },
   "source": [
    "This notebook contains some Python code snippets that you may find useful when working on COM2004/COM3004 assignment 2.\n"
   ]
  },
  {
   "cell_type": "markdown",
   "metadata": {
    "collapsed": true
   },
   "source": [
    "## 1. Loading the data\n",
    "\n",
    "The cell below shows you how to load the data from the pickle file."
   ]
  },
  {
   "cell_type": "code",
   "execution_count": 49,
   "metadata": {
    "collapsed": true
   },
   "outputs": [],
   "source": [
    "import pickle\n",
    "data = pickle.load(open(\"assignment2.pkl\", \"rb\"))\n",
    "train_data = data['train_data']\n",
    "train_labels = data['train_labels']\n",
    "test1 = data['test1']\n",
    "test2 = data['test2']\n",
    "words  = data['words']"
   ]
  },
  {
   "cell_type": "markdown",
   "metadata": {},
   "source": [
    "## 2. Displaying a character\n",
    "\n",
    "The cell below displays a sample of the character data as an image."
   ]
  },
  {
   "cell_type": "code",
   "execution_count": 50,
   "metadata": {
    "collapsed": false
   },
   "outputs": [
    {
     "name": "stdout",
     "output_type": "stream",
     "text": [
      "(699, 900)\n"
     ]
    },
    {
     "data": {
      "image/png": "[encoded data removed]",
      "text/plain": [
       "<matplotlib.figure.Figure at 0x7fcf49fdddd8>"
      ]
     },
     "metadata": {},
     "output_type": "display_data"
    }
   ],
   "source": [
    "import matplotlib.pyplot as plt\n",
    "import matplotlib.cm as cm\n",
    "import numpy as np\n",
    "%matplotlib inline\n",
    "\n",
    "n = 18 # Select the 18th sample\n",
    "pixels = train_data[n, :]\n",
    "plt.matshow(np.reshape(pixels, (30, 30), order='F'), cmap=cm.gray)\n",
    "print (train_data.shape)"
   ]
  },
  {
   "cell_type": "markdown",
   "metadata": {
    "collapsed": true
   },
   "source": [
    "## 3. The $k$-Nearest Neighbour Classifier\n",
    "\n",
    "The cell below contains the $k$-NN classifier function that is being used in the lab classes."
   ]
  },
  {
   "cell_type": "code",
   "execution_count": 51,
   "metadata": {
    "collapsed": true
   },
   "outputs": [],
   "source": [
    "def classify(train, train_labels, test):\n",
    "    \"\"\"Nearest neighbour classification\n",
    "\n",
    "    train - matrix of training data (one sample per row)\n",
    "    train_labels - corresponding training data labels\n",
    "    test - matrix of samples to classify\n",
    "\n",
    "    returns: labels - vector of test data labels\n",
    "    \"\"\"\n",
    "    x = np.dot(test, train.transpose())\n",
    "    modtest = np.sqrt(np.sum(test*test, axis=1))\n",
    "    modtrain = np.sqrt(np.sum(train*train, axis=1))\n",
    "    dist = x / np.outer(modtest, modtrain.transpose())  # cosine distance\n",
    "    nearest = np.argmax(dist, axis=1)\n",
    "    labels = train_labels[nearest]\n",
    "    return labels\n"
   ]
  },
  {
   "cell_type": "markdown",
   "metadata": {
    "collapsed": true
   },
   "source": [
    "# 4. Using the classifier\n",
    "\n",
    "The code below shows an example of using the classifier. \n",
    "\n",
    "(For demonstration purposes the training data has been cut into smaller training and test sets. In the assignment you will use all the training data for training and will be testing on test samples extracted from the images.)"
   ]
  },
  {
   "cell_type": "code",
   "execution_count": 52,
   "metadata": {
    "collapsed": false
   },
   "outputs": [
    {
     "name": "stdout",
     "output_type": "stream",
     "text": [
      "92.0\n"
     ]
    }
   ],
   "source": [
    "import numpy as np\n",
    "\n",
    "# Use first 599 samples of train_data for training\n",
    "train1_data = train_data[0:599, :]\n",
    "train1_labels = train_labels[0:599]\n",
    "\n",
    "# Use last 100 samples of train_data for testing\n",
    "test1_data = train_data[599:, :]\n",
    "test1_labels = train_labels[599:]\n",
    "\n",
    "# Count how many samples in the test set\n",
    "n_test = test1_labels.shape[0]\n",
    "\n",
    "# Classify the test set to get an array of guessed labels\n",
    "test1_guessed = classify(train1_data, train1_labels, test1_data)\n",
    "\n",
    "# Compare guesses against true labels and compute percent correct\n",
    "pcor = np.sum(test1_guessed == test1_labels) * 100.0 / n_test\n",
    "\n",
    "print(pcor)  # This should give 92% correct"
   ]
  },
  {
   "cell_type": "markdown",
   "metadata": {},
   "source": [
    "# Pre-Processing"
   ]
  },
  {
   "cell_type": "code",
   "execution_count": 88,
   "metadata": {
    "collapsed": false
   },
   "outputs": [
    {
     "name": "stdout",
     "output_type": "stream",
     "text": [
      "test1\n",
      "test2\n"
     ]
    }
   ],
   "source": [
    "import types\n",
    "GRID_LENGTH=15\n",
    "BLOCK_LENGTH=30\n",
    "TEST_LABELS = np.array([14,18,25, 5,12, 7,14, 1,12,14,12, 5,16, 2,18,\n",
    "\t\t\t\t\t\t21,14,15,14, 6, 8, 2,18,15,16, 5,18,18,13,16,\n",
    "\t\t\t\t\t\t 3,15,14, 2,20, 8, 7, 9,18,23,25, 2,14, 1, 6,\n",
    "\t\t\t\t\t\t 1,20,23, 1, 9, 5, 5,23,15,18, 3, 1, 9,12,22,\n",
    "\t\t\t\t\t\t14,16,15, 6, 4,14, 5,15,23, 5,13,14,15, 1,10,\n",
    "\t\t\t\t\t\t 5, 5,18,11, 9,18,19, 1,20, 5,5 ,23,14, 5,16,\n",
    "\t\t\t\t\t\t12,18, 2,14, 5,19, 8,15, 7,23, 5, 2,12, 5, 1,\n",
    "\t\t\t\t\t\t12,15, 4, 5,18,19, 8, 4,14,18,18,12,16,14,24,\n",
    "\t\t\t\t\t\t25,20, 9,12, 4,18, 9,25, 4,21, 9, 8,25,15,20,\n",
    "\t\t\t\t\t\t11, 5,18,18, 5,18,16, 5, 7, 3,24,15,18,20,15,\n",
    "\t\t\t\t\t\t 5,16, 1,14, 2, 9,23, 8,15, 6,16, 1,18,19,14,\n",
    "\t\t\t\t\t\t10, 5, 5,14, 9,15, 6, 5, 8,14,18,18, 1,14,26,\n",
    "\t\t\t\t\t\t 2, 9, 4,14,14,15, 4,19, 5,11,15, 5, 2, 5,10,\n",
    "\t\t\t\t\t\t14, 2,18,20,18,19,12,14, 5, 1, 8, 1, 7, 8,14,\n",
    "\t\t\t\t\t\t 1,12, 5,21,20,14, 5,11,23,14, 9,12, 5,19,12])\n",
    "\n",
    "CORRECT_LINES = [(192,132),(180, 68),(154, 42),( 92, 32),( 30, 75),( 55, 51),\n",
    "\t\t\t\t (186,184),( 63,111),( 44,156),(131,191),(165, 90),( 74,172),\n",
    "\t\t\t\t (217,214),(  8,  2),(219,107),( 29, 85),( 89,164),(151,106),\n",
    "\t\t\t\t ( 91, 16),(  1,113),( 22, 26),(223,103),(59, 157),( 39, 34)]\n",
    "\n",
    "def get_name(testN):\n",
    "\treturn \"test1\" if np.ndarray.tolist(test1)==np.ndarray.tolist(testN) else \"test2\"\n",
    "# Examples\n",
    "print(get_name(test1))\n",
    "print(get_name(test2))"
   ]
  },
  {
   "cell_type": "code",
   "execution_count": 54,
   "metadata": {
    "collapsed": false
   },
   "outputs": [
    {
     "name": "stdout",
     "output_type": "stream",
     "text": [
      "[ 138.  139.  138.  139.  140.  141.  143.  144.  143.  142.  142.  142.\n",
      "  140.  140.  141.  143.  142.  142.  142.  143.  145.  146.  146.  146.\n",
      "  145.  146.  145.  143.  143.  145.  138.  139.  139.  139.  139.  139.\n",
      "  141.  143.  142.  142.  141.  141.  141.  139.  140.  141.  141.  141.\n",
      "  142.  143.  145.  146.  145.  144.  143.  146.  145.  143.  142.  144.\n",
      "  139.  139.  139.  138.  138.  139.  141.  141.  141.  140.  140.  141.\n",
      "  140.  138.  139.  140.  141.  141.  142.  143.  145.  147.  146.  144.\n",
      "  143.  146.  145.  143.  142.  143.  138.  138.  139.  138.  138.  139.\n",
      "  140.  141.  141.  140.  140.  141.  140.  139.  140.  141.  141.  141.\n",
      "  141.  143.  145.  146.  146.  145.  144.  146.  146.  143.  142.  142.\n",
      "  137.  137.  139.  140.  138.  139.  140.  142.  142.  141.  141.  141.\n",
      "  139.  140.  140.  141.  141.  140.  140.  141.  143.  144.  145.  146.\n",
      "  145.  147.  147.  144.  141.  142.  137.  137.  138.  138.  137.  139.\n",
      "  141.  142.  142.  141.  140.  140.  138.  139.  140.  140.  139.  139.\n",
      "  140.  140.  141.  143.  144.  144.  144.  146.  146.  144.  142.  142.\n",
      "  138.  135.  136.  136.  136.  138.  139.  139.  140.  138.  136.  136.\n",
      "  138.  136.  140.  138.  135.  138.  141.  138.  139.  144.  145.  142.\n",
      "  144.  144.  145.  146.  145.  143.  138.  136.  137.  138.  139.  139.\n",
      "  139.  137.  136.  135.  133.  134.  136.  133.  135.  135.  135.  138.\n",
      "  140.  137.  139.  141.  142.  144.  145.  145.  145.  146.  145.  144.\n",
      "  138.  137.  139.  138.  135.  134.  131.  127.  124.  123.  123.  123.\n",
      "  124.  128.  127.  126.  126.  126.  126.  130.  135.  139.  142.  143.\n",
      "  144.  145.  145.  144.  144.  143.  137.  137.  138.  138.  135.  131.\n",
      "  126.  118.  110.  106.  106.  106.  106.  109.  108.  108.  108.  107.\n",
      "  109.  114.  120.  128.  135.  141.  144.  145.  145.  144.  143.  143.\n",
      "  137.  136.  136.  136.  134.  128.  120.  105.   90.   82.   81.   81.\n",
      "   78.   81.   80.   81.   81.   81.   85.   91.   99.  111.  128.  140.\n",
      "  144.  147.  146.  146.  145.  145.  136.  136.  135.  133.  129.  124.\n",
      "  113.   92.   71.   62.   64.   66.   61.   61.   58.   59.   63.   67.\n",
      "   73.   79.   85.  100.  122.  140.  144.  146.  146.  147.  147.  146.\n",
      "  136.  137.  135.  133.  132.  126.  115.   93.   72.   67.   76.   83.\n",
      "   76.   64.   54.   59.   73.   85.   92.   94.   96.  106.  124.  138.\n",
      "  142.  145.  144.  145.  145.  145.  136.  139.  137.  136.  134.  130.\n",
      "  119.   95.   79.   84.  102.  113.  106.   95.   73.   75.   96.  115.\n",
      "  120.  123.  124.  130.  136.  139.  142.  143.  142.  143.  144.  145.\n",
      "  136.  140.  138.  136.  134.  128.  116.   93.   79.   90.  114.  128.\n",
      "  121.  109.   79.   80.  107.  131.  135.  138.  137.  137.  139.  144.\n",
      "  146.  145.  143.  143.  145.  147.  135.  137.  139.  138.  134.  129.\n",
      "  117.   93.   76.   88.  116.  132.  120.  110.   76.   81.  111.  133.\n",
      "  135.  141.  139.  138.  140.  142.  143.  144.  142.  142.  144.  144.\n",
      "  135.  136.  139.  139.  135.  128.  117.   94.   73.   80.  107.  126.\n",
      "  120.  103.   72.   78.  106.  128.  134.  142.  140.  142.  142.  140.\n",
      "  142.  143.  143.  144.  145.  145.  136.  138.  139.  139.  137.  130.\n",
      "  118.   94.   72.   72.   92.  111.  113.   95.   71.   72.   94.  115.\n",
      "  125.  133.  135.  138.  140.  140.  142.  143.  143.  145.  146.  145.\n",
      "  136.  138.  138.  138.  137.  133.  122.   98.   74.   66.   75.   91.\n",
      "   97.   87.   72.   68.   78.   95.  108.  116.  121.  128.  135.  140.\n",
      "  142.  143.  143.  145.  146.  145.  137.  139.  138.  139.  138.  131.\n",
      "  123.  112.   90.   70.   62.   70.   82.   83.   76.   67.   66.   76.\n",
      "   88.   96.  107.  119.  131.  139.  142.  143.  143.  144.  144.  144.\n",
      "  137.  140.  138.  136.  136.  136.  134.  124.  106.   89.   78.   76.\n",
      "   81.   88.   95.   93.   84.   75.   69.   67.   84.  105.  126.  139.\n",
      "  141.  143.  144.  144.  144.  145.  137.  140.  138.  138.  139.  136.\n",
      "  136.  137.  129.  113.  100.   97.  104.  112.  120.  119.  113.  107.\n",
      "  101.   97.  103.  110.  125.  139.  142.  145.  146.  146.  145.  145.\n",
      "  136.  140.  139.  138.  138.  137.  140.  141.  137.  130.  125.  123.\n",
      "  124.  127.  131.  134.  135.  134.  132.  130.  127.  125.  132.  140.\n",
      "  143.  145.  145.  146.  145.  144.  135.  140.  141.  139.  137.  138.\n",
      "  141.  141.  138.  137.  138.  137.  135.  135.  134.  139.  142.  141.\n",
      "  141.  143.  141.  139.  140.  143.  144.  143.  143.  144.  144.  143.\n",
      "  134.  139.  140.  139.  138.  138.  139.  140.  137.  138.  140.  142.\n",
      "  141.  139.  137.  139.  140.  139.  139.  142.  143.  144.  145.  146.\n",
      "  145.  143.  142.  142.  143.  144.  131.  137.  137.  137.  139.  139.\n",
      "  140.  139.  139.  139.  140.  143.  146.  144.  140.  138.  139.  140.\n",
      "  140.  140.  142.  144.  145.  146.  145.  143.  143.  144.  144.  145.\n",
      "  133.  138.  139.  136.  134.  137.  141.  143.  143.  142.  140.  140.\n",
      "  141.  144.  140.  138.  139.  142.  144.  145.  145.  145.  144.  144.\n",
      "  144.  145.  145.  145.  145.  145.  135.  140.  139.  136.  135.  138.\n",
      "  140.  141.  141.  140.  140.  140.  142.  145.  141.  139.  140.  144.\n",
      "  146.  147.  146.  145.  144.  144.  145.  146.  146.  146.  145.  145.\n",
      "  136.  138.  138.  138.  139.  140.  139.  138.  137.  137.  139.  142.\n",
      "  145.  144.  142.  140.  142.  144.  144.  144.  144.  145.  144.  144.\n",
      "  145.  146.  146.  146.  146.  145.  137.  137.  137.  138.  139.  140.\n",
      "  140.  139.  139.  139.  139.  141.  143.  143.  141.  140.  142.  143.\n",
      "  142.  142.  142.  144.  145.  145.  146.  145.  146.  146.  146.  146.]\n"
     ]
    },
    {
     "data": {
      "text/plain": [
       "<matplotlib.image.AxesImage at 0x7fcf43fdaba8>"
      ]
     },
     "execution_count": 54,
     "metadata": {},
     "output_type": "execute_result"
    },
    {
     "data": {
      "image/png": "[encoded data removed]",
      "text/plain": [
       "<matplotlib.figure.Figure at 0x7fcf4851d470>"
      ]
     },
     "metadata": {},
     "output_type": "display_data"
    }
   ],
   "source": [
    "def get_characters(ndimarray, as_vectors):\n",
    "\t\"\"\"This allows the extraction of individual character images as 30 by 30 matrices\n",
    "\t   ndimarray: the matrix of pixels for every character\n",
    "\t   as_vectors: if this is true, a 225 by 900-element matrix is returned.\"\"\"\n",
    "\tletters = []\n",
    "\tcols = (ndimarray.shape[1])\n",
    "\trows = (ndimarray.shape[0])\n",
    "\tcol_step = cols//GRID_LENGTH\n",
    "\trow_step = rows//GRID_LENGTH\n",
    "\tfor current_row_start in range(0, rows, row_step):\n",
    "\t\tfor slice_start in range(0,cols,col_step):\n",
    "\t\t\tletter = []\n",
    "\t\t\tfor i in range(current_row_start,current_row_start+row_step):\n",
    "\t\t\t\trow_of_single_letter = ndimarray[i][slice_start:slice_start+col_step]\n",
    "\t\t\t\tletter+=[row_of_single_letter]\n",
    "\t\t\tletters+=[letter]\n",
    "\tif as_vectors:\n",
    "\t\treturn np.array([np.reshape(np.transpose(feature_vector), (900,), order='C') for feature_vector in np.array(letters)])\n",
    "\telse:\n",
    "\t\treturn np.array(letters)\n",
    "# Examples\n",
    "print(get_characters(test1,True)[1])\n",
    "plt.matshow(get_characters(test1,False)[1], cmap=cm.gray)"
   ]
  },
  {
   "cell_type": "markdown",
   "metadata": {},
   "source": [
    "# Classification"
   ]
  },
  {
   "cell_type": "code",
   "execution_count": 55,
   "metadata": {
    "collapsed": false
   },
   "outputs": [
    {
     "name": "stdout",
     "output_type": "stream",
     "text": [
      "224 letters were correctly labeled which is about 99% of the letters.\n"
     ]
    }
   ],
   "source": [
    "def correctly_processed(classified,actual,percentage):\n",
    "\tcorrect=0\n",
    "\tfor i in range(0,classified.shape[0]):\n",
    "\t\tif (classified[i]==actual[i]):\n",
    "\t\t\tcorrect+=1\n",
    "\treturn int(correct/(0.01*classified.shape[0] if percentage else 1))\n",
    "# Example\n",
    "classified_mat = classify(train_data, train_labels, get_characters(test1, True))\n",
    "print(str(correctly_processed(classified_mat,TEST_LABELS,False))\n",
    "\t  + \" letters were correctly labeled which is about \"\n",
    "\t  + str(correctly_processed(classified_mat,TEST_LABELS,True)) + \"% of the letters.\")"
   ]
  },
  {
   "cell_type": "markdown",
   "metadata": {},
   "source": [
    "# Perform the search"
   ]
  },
  {
   "cell_type": "code",
   "execution_count": 87,
   "metadata": {
    "collapsed": true
   },
   "outputs": [],
   "source": [
    "def search(list_to_search,word,direction='A'):\n",
    "\t\"\"\"This returns a list of tuples. In each tuple, the first value is the index of where the word could begin, the second is the index of\n",
    "\t   where it could end, and the third is the number of characters that match the word to search with.\n",
    "\t   list_to_search: list of tuples. In each tuple, the first value is the original index of the label, the second is the label found\n",
    "\t\t\t\t\t   using classify.\n",
    "\t   word: word to search with\n",
    "\t   direction: direction to search in. It can be 'F' for forward, 'B' for back or 'A' for all.\"\"\"\n",
    "\tif (len(word)>len(list_to_search)):\n",
    "\t\treturn []\n",
    "\tunzipped=list(zip(*list_to_search))\n",
    "\torig_indices=list(unzipped[0])\n",
    "\t\n",
    "\tif (direction=='F'):\n",
    "\t\t#Search forwards\n",
    "\t\tarr_to_search=np.array(unzipped[1])\n",
    "\t\tpos=0\n",
    "\t\tforward=[]\n",
    "\t\twhile len(word)<=len(arr_to_search[pos:]):\n",
    "\t\t\tnum_correct = sum(word==(arr_to_search[pos:pos+len(word)]))\n",
    "\t\t\t#Increase sorting speed later on, ignore totally incorrect results, only include totally correct results if any.\n",
    "\t\t\tif num_correct>0:\n",
    "\t\t\t\tforward+=[(orig_indices[pos],orig_indices[pos+len(word)-1],num_correct)]\n",
    "\t\t\telif num_correct==len(word):\n",
    "\t\t\t\treturn [(orig_indices[pos],orig_indices[pos+len(word)-1],num_correct)]\n",
    "\t\t\tpos+=1\n",
    "\t\treturn forward\n",
    "\telif (direction=='B'):\n",
    "\t\t#Search backwards\n",
    "\t\treversed_list=list(list_to_search)\n",
    "\t\treversed_list.reverse()\n",
    "\t\treturn search(reversed_list,word,'F')\n",
    "\telse:\n",
    "\t\t#Search in all directions and combine\n",
    "\t\treturn search(list_to_search,word,'F') + search(list_to_search,word,'B')"
   ]
  },
  {
   "cell_type": "markdown",
   "metadata": {},
   "source": [
    "# Display the result"
   ]
  },
  {
   "cell_type": "code",
   "execution_count": 57,
   "metadata": {
    "collapsed": true
   },
   "outputs": [],
   "source": [
    "def draw_line(graph, start, end, side_length):\n",
    "\t\"\"\"This draws a line on a pyplot between two letters.\n",
    "\t   graph: the pyplot to draw on\n",
    "\t   start_letter: where the line begins, can be a coordinate or index.\n",
    "\t   end_letter: where the line ends, can be a coordinate or index.\"\"\"\n",
    "\t\n",
    "\tif (isinstance(start, int)):\n",
    "\t\tdraw_line(graph, [start % GRID_LENGTH,start//GRID_LENGTH], [end % GRID_LENGTH,end//GRID_LENGTH], side_length)\n",
    "\telse:\n",
    "\t\t# get starting x-coordinate, get ending x-coordinate.\n",
    "\t\txSxE=[start[0]*side_length+GRID_LENGTH,end[0]*side_length+GRID_LENGTH]\n",
    "\t\t# get starting y-coordinate, get ending y-coordinate.\n",
    "\t\tySyE=[start[1]*side_length+GRID_LENGTH,end[1]*side_length+GRID_LENGTH]\n",
    "\t\t# Plot a yellow line on the graph\n",
    "\t\tplt.xlim(0, GRID_LENGTH*side_length)\n",
    "\t\tplt.ylim(GRID_LENGTH*side_length, 0)\n",
    "\t\tgraph.plot(xSxE, ySyE, 'y-')"
   ]
  },
  {
   "cell_type": "markdown",
   "metadata": {
    "collapsed": true
   },
   "source": [
    "# Dimensionality Reduction\n",
    "After passing the testing data through the get_characters function (thereby turning each ite into 900-element vectors just as the items in train_data are), it must be passed through a dimensionality reduction function. train data, which alsoconsistss of 900-element vectors, must be passed through the same function."
   ]
  },
  {
   "cell_type": "code",
   "execution_count": 59,
   "metadata": {
    "collapsed": false
   },
   "outputs": [
    {
     "name": "stdout",
     "output_type": "stream",
     "text": [
      "(699, 10)\n"
     ]
    },
    {
     "data": {
      "image/png": "[encoded data removed]",
      "text/plain": [
       "<matplotlib.figure.Figure at 0x7fcf48229c88>"
      ]
     },
     "metadata": {},
     "output_type": "display_data"
    },
    {
     "data": {
      "image/png": "[encoded data removed]",
      "text/plain": [
       "<matplotlib.figure.Figure at 0x7fcf482295c0>"
      ]
     },
     "metadata": {},
     "output_type": "display_data"
    }
   ],
   "source": [
    "from scipy import linalg\n",
    "def reduce(test_dat,train_dat,reduce_by,as_vectors=False):\n",
    "    \"\"\" test_data: Testing data to reduce\n",
    "       train_data: Training data to use\n",
    "        reduce_by: The number of components at the end\n",
    "       as_vectors: If true it returns an array of vectors with dimensions equal to reduce_by, in false,\n",
    "                   The number dimensions of the output are the same as that of test_dat, allowing it to be plotted.\"\"\"\n",
    "    covx = np.cov(train_data, rowvar=0)\n",
    "    N = covx.shape[0]\n",
    "    w, v = linalg.eigh(covx, eigvals=(N-reduce_by, N-1))\n",
    "    v = np.fliplr(v)\n",
    "    if as_vectors:\n",
    "        return np.dot((test_dat - np.mean(train_dat)), v)\n",
    "    else:\n",
    "        return np.dot(np.dot((test_dat - np.mean(train_dat)), v), v.transpose()) + np.mean(train_dat)\n",
    "\n",
    "#Example\n",
    "n2=1\n",
    "pixels2=train_data[n2, :]\n",
    "plt.matshow(np.reshape(pixels2, (30, 30), order='F'), cmap=cm.gray)\n",
    "plt.matshow(np.reshape(reduce(train_data,train_data, 10)[n2,:], (30,30), order='F'), cmap=cm.gray)\n",
    "print(reduce(train_data,train_data, 10,True).shape)"
   ]
  },
  {
   "cell_type": "code",
   "execution_count": 60,
   "metadata": {
    "collapsed": false
   },
   "outputs": [
    {
     "name": "stdout",
     "output_type": "stream",
     "text": [
      "84.0\n"
     ]
    }
   ],
   "source": [
    "#Classifying with reduced vectors:\n",
    "# Use first 599 samples of train_data for training\n",
    "train1_data_reduced = reduce(train_data[0:599, :],train_data,10,True)\n",
    "train1_label = train_labels[0:599]\n",
    "\n",
    "# Use last 100 samples of train_data for testing\n",
    "test1_data_reduced = reduce(train_data[599:, :],train_data,10,True)\n",
    "test1_labels = train_labels[599:]\n",
    "\n",
    "# Count how many samples in the test set\n",
    "n_test = test1_labels.shape[0]\n",
    "\n",
    "# Classify the test set to get an array of guessed labels\n",
    "test1_guessed_reduced = classify(train1_data_reduced, train1_labels, test1_data_reduced)\n",
    "\n",
    "# Compare guesses against true labels and compute percent correct\n",
    "pcor = np.sum(test1_guessed_reduced == test1_labels) * 100.0 / n_test\n",
    "\n",
    "print(pcor)"
   ]
  },
  {
   "cell_type": "markdown",
   "metadata": {},
   "source": [
    "# Loop over all words"
   ]
  },
  {
   "cell_type": "code",
   "execution_count": null,
   "metadata": {
    "collapsed": false
   },
   "outputs": [
    {
     "name": "stdout",
     "output_type": "stream",
     "text": [
      "Solving test1\n",
      "224 letters were correctly labeled which is about 99% of the letters.\n",
      "Seaching for barry\n",
      "Line from index 192 to index 132\n",
      "Seaching for beardshaw\n",
      "Line from index 180 to index 68\n",
      "Seaching for bridgeman\n",
      "Line from index 154 to index 42\n",
      "Seaching for brown\n",
      "Line from index 92 to index 32\n",
      "Seaching for cane\n",
      "Line from index 30 to index 75\n",
      "Seaching for crowe\n",
      "Line from index 55 to index 51\n",
      "Seaching for don\n",
      "Line from index 186 to index 184\n",
      "Seaching for fish\n",
      "Line from index 63 to index 111\n",
      "Seaching for flowerdew\n",
      "Line from index 44 to index 156\n",
      "Seaching for hoare\n",
      "Line from index 131 to index 191\n",
      "Seaching for jekyll\n",
      "Line from index 165 to index 90\n",
      "Seaching for jellicoe\n",
      "Line from index 74 to index 172\n",
      "Seaching for kent\n",
      "Line from index 217 to index 214\n",
      "Seaching for langley\n",
      "Line from index 8 to index 2\n",
      "Seaching for nesfield\n",
      "Line from index 219 to index 107\n",
      "Seaching for paine\n",
      "Line from index 29 to index 85\n",
      "Seaching for paxton\n",
      "Line from index 89 to index 164\n",
      "Seaching for peto\n"
     ]
    }
   ],
   "source": [
    "def wordsearch(testN, words_to_find, train_dat, train_lbl,reduced=False):\n",
    "\tprint(\"Solving \" + get_name(testN) + (\" With Reduction\" if reduced else \"\"))\n",
    "\tplt.matshow(testN, cmap=cm.gray)\n",
    "\t#Classification, Pre-processing, Dimensionality Reduction\n",
    "\ttraining_dat = reduce(train_dat,train_dat,10,True) if reduced else train_dat\n",
    "\tpreprocessed = get_characters(testN, True)\n",
    "\tclassified_mat = classify(training_dat, train_lbl, reduce(preprocessed,train_dat,10,True) if reduced else preprocessed)\n",
    "\tprint(str(correctly_processed(classified_mat,TEST_LABELS,False))\n",
    "\t  + \" letters were correctly labeled which is about \"\n",
    "\t  + str(correctly_processed(classified_mat,TEST_LABELS,True)) + \"% of the letters.\")\n",
    "\t#Give every element a unique number because the functions to be used such as diagonal do not preserve indices\n",
    "\tindices_grid=np.reshape(range(classified_mat.shape[0]), (GRID_LENGTH,GRID_LENGTH))\n",
    "\t#Select a word to find\n",
    "\tlines=[]\n",
    "\tfor w_string in words_to_find:\n",
    "\t\tw=[ord(ch)-96 for ch in list(w_string)]\n",
    "\t\t#Perform the search\n",
    "\t\tprint(\"Seaching for \" + w_string)\n",
    "\t\tlists_searched = []\n",
    "\t\t#Search row by row\n",
    "\t\tfor r in range(0,GRID_LENGTH):\n",
    "\t\t\tlists_searched+=search(index_label_list(classified_mat,indices_grid[r]),w)\n",
    "\t\t#Search column by column\n",
    "\t\tfor c in range(0,GRID_LENGTH):\n",
    "\t\t\tlists_searched+=search(index_label_list(classified_mat,indices_grid[:,c]),w)\n",
    "\t\t#Search all diagonals that are longer than or just as long as the word.\n",
    "\t\t\tlists_searched=trav_diag(classified_mat,indices_grid,lists_searched,w)\n",
    "\t\t#Likeliest is the tuple that has the biggest third element\n",
    "\t\tlikeliest=sorted(lists_searched,key=lambda trituple: trituple[2])[len(lists_searched)-1]\n",
    "\t\t#Return starting index and ending index for this word.\n",
    "\t\tlikeliest_tuple=likeliest[:2]\n",
    "\t\tlines+=[likeliest_tuple]\n",
    "\t\t#Display the result\n",
    "\t\tprint(\"Line from index \" + str(likeliest_tuple[0]) + \" to index \" + str(likeliest_tuple[1]))\n",
    "\t\tdraw_line(plt,int(likeliest_tuple[0]), int(likeliest_tuple[1]), BLOCK_LENGTH)\n",
    "\tprint(\"Solved\")\n",
    "\tprint(str(sum([t[0] and t[1] for t in (np.array(CORRECT_LINES)==(np.array(lines)))])) + \" out of \" + str(len(words)) + \" found correctly.\")\n",
    "\n",
    "#Searching test1 with 900 features.\n",
    "wordsearch(test1, words, train_data, train_labels)\n",
    "#Searching test1 with reduction to 10 features.\n",
    "wordsearch(test1, words, train_data, train_labels,True)\n",
    "\n",
    "#Noise Robustness\n",
    "#Searching test2 with 900 features.\n",
    "wordsearch(test2, words, train_data, train_labels)\n",
    "#Searching test2, with reduction to 10 features.\n",
    "wordsearch(test2, words, train_data, train_labels,True)"
   ]
  },
  {
   "cell_type": "code",
   "execution_count": null,
   "metadata": {
    "collapsed": true
   },
   "outputs": [],
   "source": []
  }
 ],
 "metadata": {
  "anaconda-cloud": {},
  "kernelspec": {
   "display_name": "Anaconda (Python 3)",
   "language": "python",
   "name": "anaconda3"
  },
  "language_info": {
   "codemirror_mode": {
    "name": "ipython",
    "version": 3
   },
   "file_extension": ".py",
   "mimetype": "text/x-python",
   "name": "python",
   "nbconvert_exporter": "python",
   "pygments_lexer": "ipython3",
   "version": "3.5.2"
  }
 },
 "nbformat": 4,
 "nbformat_minor": 0
}
