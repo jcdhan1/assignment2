{
 "cells": [
  {
   "cell_type": "markdown",
   "metadata": {},
   "source": [
    "# COM2004/3004 Assignment 2: Code Snippets\n",
    "\n",
    "v1.0 30/10/2016"
   ]
  },
  {
   "cell_type": "markdown",
   "metadata": {
    "collapsed": true
   },
   "source": [
    "This notebook contains some Python code snippets that you may find useful when working on COM2004/COM3004 assignment 2.\n"
   ]
  },
  {
   "cell_type": "markdown",
   "metadata": {
    "collapsed": true
   },
   "source": [
    "## 1. Loading the data\n",
    "\n",
    "The cell below shows you how to load the data from the pickle file."
   ]
  },
  {
   "cell_type": "code",
   "execution_count": 1,
   "metadata": {
    "collapsed": true
   },
   "outputs": [],
   "source": [
    "import pickle\n",
    "data = pickle.load(open(\"assignment2.pkl\", \"rb\"))\n",
    "train_data = data['train_data']\n",
    "train_labels = data['train_labels']\n",
    "test1 = data['test1']\n",
    "test2 = data['test2']\n",
    "words  = data['words']"
   ]
  },
  {
   "cell_type": "markdown",
   "metadata": {},
   "source": [
    "## 2. Displaying a character\n",
    "\n",
    "The cell below displays a sample of the character data as an image."
   ]
  },
  {
   "cell_type": "code",
   "execution_count": 13,
   "metadata": {
    "collapsed": false
   },
   "outputs": [
    {
     "data": {
      "text/plain": [
       "3"
      ]
     },
     "execution_count": 13,
     "metadata": {},
     "output_type": "execute_result"
    },
    {
     "data": {
      "image/png": "[encoded data removed]",
      "text/plain": [
       "<matplotlib.figure.Figure at 0x7f18a9a18a90>"
      ]
     },
     "metadata": {},
     "output_type": "display_data"
    }
   ],
   "source": [
    "import matplotlib.pyplot as plt\n",
    "import matplotlib.cm as cm\n",
    "import numpy as np\n",
    "%matplotlib inline\n",
    "\n",
    "n = 18 # Select the 18th sample\n",
    "pixels = train_data[n, :]\n",
    "plt.matshow(np.reshape(pixels, (30, 30), order='F'), cmap=cm.gray)\n",
    "train_labels[18]"
   ]
  },
  {
   "cell_type": "markdown",
   "metadata": {
    "collapsed": true
   },
   "source": [
    "## 3. The $k$-Nearest Neighbour Classifier\n",
    "\n",
    "The cell below contains the $k$-NN classifier function that is being used in the lab classes."
   ]
  },
  {
   "cell_type": "code",
   "execution_count": 3,
   "metadata": {
    "collapsed": true
   },
   "outputs": [],
   "source": [
    "def classify(train, train_labels, test):\n",
    "    \"\"\"Nearest neighbour classification\n",
    "\n",
    "    train - matrix of training data (one sample per row)\n",
    "    train_labels - corresponding training data labels\n",
    "    test - matrix of samples to classify\n",
    "\n",
    "    returns: labels - vector of test data labels\n",
    "    \"\"\"\n",
    "    x = np.dot(test, train.transpose()) \n",
    "    modtest = np.sqrt(np.sum(test*test, axis=1))\n",
    "    modtrain = np.sqrt(np.sum(train*train, axis=1))\n",
    "    dist = x / np.outer(modtest, modtrain.transpose())  # cosine distance\n",
    "    nearest = np.argmax(dist, axis=1)\n",
    "    labels = train_labels[nearest]\n",
    "    return labels\n"
   ]
  },
  {
   "cell_type": "markdown",
   "metadata": {
    "collapsed": true
   },
   "source": [
    "# 4. Using the classifier\n",
    "\n",
    "The code below shows an example of using the classifier. \n",
    "\n",
    "(For demonstration purposes the training data has been cut into smaller training and test sets. In the assignment you will use all the training data for training and will be testing on test samples extracted from the images.)"
   ]
  },
  {
   "cell_type": "code",
   "execution_count": 4,
   "metadata": {
    "collapsed": false
   },
   "outputs": [
    {
     "name": "stdout",
     "output_type": "stream",
     "text": [
      "92.0\n"
     ]
    }
   ],
   "source": [
    "import numpy as np\n",
    "\n",
    "# Use first 599 samples of train_data for training\n",
    "train1_data = train_data[0:599, :]\n",
    "train1_labels = train_labels[0:599]\n",
    "\n",
    "# Use last 100 samples of train_data for testing\n",
    "test1_data = train_data[599:, :]\n",
    "test1_labels = train_labels[599:]\n",
    "\n",
    "# Count how many samples in the test set\n",
    "n_test = test1_labels.shape[0]\n",
    "\n",
    "# Classify the test set to get an array of guessed labels\n",
    "test1_guessed = classify(train1_data, train1_labels, test1_data)\n",
    "\n",
    "# Compare guesses against true labels and compute percent correct\n",
    "pcor = np.sum(test1_guessed == test1_labels) * 100.0 / n_test\n",
    "\n",
    "print(pcor)  # This should give 92% correct"
   ]
  },
  {
   "cell_type": "code",
   "execution_count": null,
   "metadata": {
    "collapsed": true
   },
   "outputs": [],
   "source": []
  }
 ],
 "metadata": {
  "anaconda-cloud": {},
  "kernelspec": {
   "display_name": "Anaconda (Python 3)",
   "language": "python",
   "name": "anaconda3"
  },
  "language_info": {
   "codemirror_mode": {
    "name": "ipython",
    "version": 3
   },
   "file_extension": ".py",
   "mimetype": "text/x-python",
   "name": "python",
   "nbconvert_exporter": "python",
   "pygments_lexer": "ipython3",
   "version": "3.5.2"
  }
 },
 "nbformat": 4,
 "nbformat_minor": 0
}
